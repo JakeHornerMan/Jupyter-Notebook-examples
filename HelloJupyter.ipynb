{
 "cells": [
  {
   "cell_type": "code",
   "execution_count": 12,
   "id": "267a92e7-d096-4720-82f4-030766525a60",
   "metadata": {},
   "outputs": [],
   "source": [
    "import matplotlib.pyplot as plot"
   ]
  },
  {
   "cell_type": "markdown",
   "id": "3417654b-f1ed-4fb3-8a2e-381c8e2cf295",
   "metadata": {},
   "source": [
    "This is a comment in markdown!"
   ]
  },
  {
   "cell_type": "code",
   "execution_count": 14,
   "id": "8a575188-ed3e-4233-85a1-51775c1785de",
   "metadata": {},
   "outputs": [],
   "source": [
    "greeting = \"Hello Jupyter\""
   ]
  },
  {
   "cell_type": "code",
   "execution_count": 16,
   "id": "2698e343-602c-4fd0-8440-53c3685d2673",
   "metadata": {},
   "outputs": [
    {
     "name": "stdout",
     "output_type": "stream",
     "text": [
      "Hello Jupyter\n"
     ]
    }
   ],
   "source": [
    "print(greeting)"
   ]
  },
  {
   "cell_type": "markdown",
   "id": "8a959276-7c6b-4ffe-91c4-a2e3361c848d",
   "metadata": {},
   "source": [
    "### Length of words in greeting bar chart"
   ]
  },
  {
   "cell_type": "code",
   "execution_count": 18,
   "id": "b1e32d09-c785-4744-a210-20ad56ef32fa",
   "metadata": {
    "scrolled": true
   },
   "outputs": [
    {
     "data": {
      "image/png": "[encoded data removed]",
      "text/plain": [
       "<Figure size 640x480 with 1 Axes>"
      ]
     },
     "metadata": {},
     "output_type": "display_data"
    }
   ],
   "source": [
    "words = greeting.split(\" \")\n",
    "\n",
    "length = [len(w) for  w in words]\n",
    "plot.bar(words, length)\n",
    "plot.show()"
   ]
  },
  {
   "cell_type": "code",
   "execution_count": null,
   "id": "59631f05-49ed-4e8f-96dc-11b7023570e0",
   "metadata": {},
   "outputs": [],
   "source": []
  }
 ],
 "metadata": {
  "kernelspec": {
   "display_name": "Python [conda env:base] *",
   "language": "python",
   "name": "conda-base-py"
  },
  "language_info": {
   "codemirror_mode": {
    "name": "ipython",
    "version": 3
   },
   "file_extension": ".py",
   "mimetype": "text/x-python",
   "name": "python",
   "nbconvert_exporter": "python",
   "pygments_lexer": "ipython3",
   "version": "3.12.7"
  }
 },
 "nbformat": 4,
 "nbformat_minor": 5
}
